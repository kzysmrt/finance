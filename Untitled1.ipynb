{
  "nbformat": 4,
  "nbformat_minor": 0,
  "metadata": {
    "colab": {
      "name": "Untitled1.ipynb",
      "version": "0.3.2",
      "provenance": [],
      "include_colab_link": true
    },
    "kernelspec": {
      "name": "python3",
      "display_name": "Python 3"
    }
  },
  "cells": [
    {
      "cell_type": "markdown",
      "metadata": {
        "id": "view-in-github",
        "colab_type": "text"
      },
      "source": [
        "<a href=\"https://colab.research.google.com/github/kzysmrt/finance/blob/master/Untitled1.ipynb\" target=\"_parent\"><img src=\"https://colab.research.google.com/assets/colab-badge.svg\" alt=\"Open In Colab\"/></a>"
      ]
    },
    {
      "metadata": {
        "id": "G3YGPoHzGOQ6",
        "colab_type": "code",
        "colab": {
          "base_uri": "https://localhost:8080/",
          "height": 51
        },
        "outputId": "e1b43fcb-469b-4943-8254-4c3dbe6e66e0"
      },
      "cell_type": "code",
      "source": [
        "states = ['recover', 'growth', 'stable', 'bobble', 'reform', 'now']\n",
        "dates = [\"1949/5/16\", \"1954/12/1\", \"1972/1/1\", \"1986/12/1\", \"1993/11/1\", \"2019/2/25\"]\n",
        "# recovew: 戦後復興期\n",
        "# growth: 高度経済成長記\n",
        "# stable: 安定期\n",
        "# bobble: バブル期\n",
        "# reform: 経済変革期\n",
        "# now: 今\n",
        "print(states)\n",
        "print(dates)"
      ],
      "execution_count": 12,
      "outputs": [
        {
          "output_type": "stream",
          "text": [
            "['recover', 'growth', 'stable', 'bobble', 'reform', 'now']\n",
            "['1949/5/16', '1954/12/1', '1972/1/1', '1986/12/1', '1993/11/1', '2019/2/25']\n"
          ],
          "name": "stdout"
        }
      ]
    },
    {
      "metadata": {
        "id": "JseFI8e7HD6d",
        "colab_type": "code",
        "colab": {
          "base_uri": "https://localhost:8080/",
          "height": 221
        },
        "outputId": "4c5d0b9f-c906-489f-d929-91afeca7a92e"
      },
      "cell_type": "code",
      "source": [
        "import pandas_datareader as pdr\n",
        "import numpy as np\n",
        "end='2019/2/25'\n",
        "n225 = pdr.DataReader(\"NIKKEI225\", \"fred\", \"1945/5/16\", end).NIKKEI225\n",
        "print('rate of change')\n",
        "for i in range(len(dates)-1):\n",
        "  ave=n225[dates[i]:dates[i+1]].pct_change().mean()*250\n",
        "  print(states[i], ': %2.2f ％;'%(ave*100))\n",
        "print('volatility')\n",
        "for i in range(len(dates)-1):\n",
        "  vol = np.log(n225[dates[i]:dates[i+1]]).diff().std()*np.sqrt(250)\n",
        "  print(states[i], '%2.2f ％;' %(vol*100))"
      ],
      "execution_count": 19,
      "outputs": [
        {
          "output_type": "stream",
          "text": [
            "rate of change\n",
            "recover : 13.71 ％;\n",
            "growth : 13.47 ％;\n",
            "stable : 13.48 ％;\n",
            "bobble : 3.49 ％;\n",
            "reform : 3.17 ％;\n",
            "volatility\n",
            "recover 22.99 ％;\n",
            "growth 14.45 ％;\n",
            "stable 12.64 ％;\n",
            "bobble 22.82 ％;\n",
            "reform 22.94 ％;\n"
          ],
          "name": "stdout"
        }
      ]
    },
    {
      "metadata": {
        "id": "x9ZJpG76Hwls",
        "colab_type": "code",
        "colab": {}
      },
      "cell_type": "code",
      "source": [
        "struct_break=[('1949/5/16', 'recv'), ('1954/12/1', '  growth'), ('1972/1/1','stable'), ('1986/12/1', 'bubble'), ('1991/3/1','      reform')]"
      ],
      "execution_count": 0,
      "outputs": []
    },
    {
      "metadata": {
        "id": "dyaVLS2pKjAU",
        "colab_type": "code",
        "colab": {
          "base_uri": "https://localhost:8080/",
          "height": 294
        },
        "outputId": "ab342d7e-59a1-420d-9d4e-3560e8bfbff7"
      },
      "cell_type": "code",
      "source": [
        "%matplotlib inline\n",
        "import matplotlib.pyplot as plt\n",
        "fig = plt.figure()\n",
        "g=fig.add_subplot(1,1,1)\n",
        "n225.plot(ax=g, style='y-', linewidth=0.5)\n",
        "plt.ylabel('N225 index')\n",
        "for date, label in struct_break:\n",
        "  g.annotate(label, xy=(date, n225.asof(date)+1000), xytext=(date, n225.asof(date)+1000), horizontalalignment='left', verticalalignment='top')\n",
        "  g.set_xlim(['1947/1/1', '2019/4/25'])\n",
        "  \n",
        "  plt.title(\"Nikkei 225 and structural change\")"
      ],
      "execution_count": 24,
      "outputs": [
        {
          "output_type": "display_data",
          "data": {
            "image/png": "[encoded data removed]",
            "text/plain": [
              "<Figure size 432x288 with 1 Axes>"
            ]
          },
          "metadata": {
            "tags": []
          }
        }
      ]
    },
    {
      "metadata": {
        "id": "ZGIq18xeLf1Q",
        "colab_type": "code",
        "colab": {}
      },
      "cell_type": "code",
      "source": [
        ""
      ],
      "execution_count": 0,
      "outputs": []
    }
  ]
}